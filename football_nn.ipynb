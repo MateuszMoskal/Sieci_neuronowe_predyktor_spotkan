{
 "cells": [
  {
   "cell_type": "markdown",
   "id": "50249e05",
   "metadata": {},
   "source": [
    "#### Imports"
   ]
  },
  {
   "cell_type": "code",
   "execution_count": 4,
   "id": "b0c9479c-4580-433a-99a1-926ddad703ee",
   "metadata": {},
   "outputs": [],
   "source": [
    "import os\n",
    "import sys\n",
    "\n",
    "import numpy as np\n",
    "import pandas as pd\n",
    "from sklearn.preprocessing import OneHotEncoder, StandardScaler, LabelEncoder\n",
    "from sklearn.utils import class_weight\n",
    "from sklearn.model_selection import train_test_split\n",
    "os.environ['TF_ENABLE_ONEDNN_OPTS'] = '0'\n",
    "from tensorflow.keras.models import Sequential\n",
    "from tensorflow.keras.layers import Dense, Input, Dropout\n",
    "\n",
    "from tensorflow.keras.utils import to_categorical\n",
    "from tensorflow.keras.callbacks import EarlyStopping\n",
    "\n",
    "from helpers import *\n"
   ]
  },
  {
   "cell_type": "markdown",
   "id": "1c2d779d",
   "metadata": {},
   "source": [
    "#### Helpers"
   ]
  },
  {
   "cell_type": "code",
   "execution_count": 5,
   "id": "6a3878bc",
   "metadata": {},
   "outputs": [],
   "source": [
    "def loadDataset(path):\n",
    "    return pd.read_csv(path)\n",
    "\n",
    "def getMatchResult(row, labels):\n",
    "    if row[labels[0]] > row[labels[1]]:\n",
    "        return 'H'\n",
    "    elif row[labels[0]] < row[labels[1]]:\n",
    "        return 'A'\n",
    "    else:\n",
    "        return 'D'\n",
    "\n",
    "def predictMatch(home, away):\n",
    "    # Encode home and away teams separately using their encoders\n",
    "    home_encoded = le_home_encoder.transform([[home]]).toarray()\n",
    "    away_encoded = le_away_encoder.transform([[away]]).toarray()\n",
    "    \n",
    "    # Combine the team encoding\n",
    "    team_input = np.hstack((home_encoded, away_encoded))\n",
    "    \n",
    "    # Compute numeric features\n",
    "    home_shots = home_avg_shots.get(home, 0)\n",
    "    away_shots = away_avg_shots.get(away, 0)\n",
    "    home_corners = home_avg_corners.get(home, 0)\n",
    "    away_corners = away_avg_corners.get(away, 0)\n",
    "\n",
    "    numeric_input = scaler.transform([[home_shots, away_shots, home_corners, away_corners]])\n",
    "    \n",
    "    # Combine both team and numeric inputs\n",
    "    input_data = np.hstack((team_input, numeric_input))\n",
    "\n",
    "    # Predict\n",
    "    pred_probs = model.predict(input_data)[0]\n",
    "    label_order = le_target.transform(['H', 'D', 'A']) \n",
    "\n",
    "    # Output\n",
    "    print(f\"\\n{home} vs {away}\")\n",
    "    print(f\"Home win: {pred_probs[label_order[0]]*100:.2f}%\")\n",
    "    print(f\"Draw:     {pred_probs[label_order[1]]*100:.2f}%\")\n",
    "    print(f\"Away win: {pred_probs[label_order[2]]*100:.2f}%\")\n"
   ]
  },
  {
   "cell_type": "markdown",
   "id": "9ec1a2b0",
   "metadata": {},
   "source": [
    "#### Parameters & Dataset"
   ]
  },
  {
   "cell_type": "code",
   "execution_count": 6,
   "id": "152f3d21",
   "metadata": {},
   "outputs": [],
   "source": [
    "# dataset_path = \"datasets/worldcup/matches_1930_2022.csv\"\n",
    "dataset_path = \"datasets/laliga/combined_data_laliga.csv\"\n",
    "dataset = dataset_path.split('/')[1]\n",
    "\n",
    "test_ratio = 0.4\n",
    "labels = getColumnLabels(dataset)\n",
    "\n",
    "df = loadDataset(dataset_path)\n",
    "df['result'] = df.apply(getMatchResult, args=(labels[0], ), axis=1)"
   ]
  },
  {
   "cell_type": "markdown",
   "id": "5b900bfa",
   "metadata": {},
   "source": [
    "#### Encoding"
   ]
  },
  {
   "cell_type": "code",
   "execution_count": 7,
   "id": "4e884a3a",
   "metadata": {},
   "outputs": [],
   "source": [
    "home_avg_shots = df.groupby(\"Home Team\")[\"Home Team Total Shots\"].mean()\n",
    "away_avg_shots = df.groupby(\"Away Team\")[\"Away Team Total Shots\"].mean()\n",
    "home_avg_corners = df.groupby(\"Home Team\")[\"Home Team Corners\"].mean()\n",
    "away_avg_corners = df.groupby(\"Away Team\")[\"Away Team Corners\"].mean()\n",
    "\n",
    "df['home_avg_shots'] = df[\"Home Team\"].map(home_avg_shots)\n",
    "df['away_avg_shots'] = df[\"Away Team\"].map(away_avg_shots)\n",
    "df['home_avg_corners'] = df[\"Home Team\"].map(home_avg_corners)\n",
    "df['away_avg_corners'] = df[\"Away Team\"].map(away_avg_corners)\n",
    "\n",
    "# === Prepare Features ===\n",
    "team_features = df[[\"home_avg_shots\", \"away_avg_shots\", \"home_avg_corners\", \"away_avg_corners\"]].values\n",
    "scaler = StandardScaler()\n",
    "scaled_team_features = scaler.fit_transform(team_features)\n",
    "\n",
    "le_home_encoder = OneHotEncoder(handle_unknown='ignore')\n",
    "le_home_encoded = le_home_encoder.fit(df[[labels[1][0]]])\n",
    "le_home = le_home_encoded.transform(df[[labels[1][0]]]).toarray()\n",
    "\n",
    "le_away_encoder = OneHotEncoder(handle_unknown='ignore')\n",
    "le_away_encoded = le_away_encoder.fit(df[[labels[1][1]]])\n",
    "le_away = le_away_encoded.transform(df[[labels[1][1]]]).toarray()\n",
    "\n",
    "# Combine all features\n",
    "X = np.hstack((le_home, le_away, scaled_team_features))\n",
    "\n",
    "# Encode targets\n",
    "le_target = LabelEncoder()\n",
    "Y = le_target.fit_transform(df['result'])\n",
    "\n",
    "# === Train-test Split ===\n",
    "X_train, X_test, Y_train, Y_test = train_test_split(X, Y, test_size=0.4, random_state=42)\n"
   ]
  },
  {
   "cell_type": "markdown",
   "id": "b37edd27",
   "metadata": {},
   "source": [
    "#### Model definition"
   ]
  },
  {
   "cell_type": "code",
   "execution_count": 8,
   "id": "b61f2dea",
   "metadata": {},
   "outputs": [
    {
     "name": "stderr",
     "output_type": "stream",
     "text": [
      "c:\\Politechnika\\Podstawy_sieci_neuronowych\\soccer_pred\\.venv\\Lib\\site-packages\\keras\\src\\layers\\core\\dense.py:87: UserWarning: Do not pass an `input_shape`/`input_dim` argument to a layer. When using Sequential models, prefer using an `Input(shape)` object as the first layer in the model instead.\n",
      "  super().__init__(activity_regularizer=activity_regularizer, **kwargs)\n"
     ]
    }
   ],
   "source": [
    "model = Sequential()\n",
    "model.add(Dense(128, activation='sigmoid', input_shape=(X_train.shape[1],)))\n",
    "model.add(Dropout(0.3))\n",
    "model.add(Dense(64, activation='sigmoid'))\n",
    "model.add(Dropout(0.3))\n",
    "model.add(Dense(32, activation='sigmoid'))\n",
    "model.add(Dropout(0.2))\n",
    "model.add(Dense(3, activation='softmax'))"
   ]
  },
  {
   "cell_type": "markdown",
   "id": "e4f0ee13",
   "metadata": {},
   "source": [
    "#### Model compilation and fitting"
   ]
  },
  {
   "cell_type": "code",
   "execution_count": 9,
   "id": "098de285",
   "metadata": {},
   "outputs": [
    {
     "name": "stdout",
     "output_type": "stream",
     "text": [
      "Epoch 1/100\n",
      "\u001b[1m50/50\u001b[0m \u001b[32m━━━━━━━━━━━━━━━━━━━━\u001b[0m\u001b[37m\u001b[0m \u001b[1m5s\u001b[0m 31ms/step - accuracy: 0.3540 - loss: 1.1653 - val_accuracy: 0.2682 - val_loss: 1.0960\n",
      "Epoch 2/100\n",
      "\u001b[1m50/50\u001b[0m \u001b[32m━━━━━━━━━━━━━━━━━━━━\u001b[0m\u001b[37m\u001b[0m \u001b[1m1s\u001b[0m 16ms/step - accuracy: 0.3418 - loss: 1.1328 - val_accuracy: 0.2682 - val_loss: 1.1144\n",
      "Epoch 3/100\n",
      "\u001b[1m50/50\u001b[0m \u001b[32m━━━━━━━━━━━━━━━━━━━━\u001b[0m\u001b[37m\u001b[0m \u001b[1m1s\u001b[0m 13ms/step - accuracy: 0.3588 - loss: 1.1215 - val_accuracy: 0.4950 - val_loss: 1.0706\n",
      "Epoch 4/100\n",
      "\u001b[1m50/50\u001b[0m \u001b[32m━━━━━━━━━━━━━━━━━━━━\u001b[0m\u001b[37m\u001b[0m \u001b[1m1s\u001b[0m 16ms/step - accuracy: 0.3481 - loss: 1.1167 - val_accuracy: 0.5113 - val_loss: 1.0639\n",
      "Epoch 5/100\n",
      "\u001b[1m50/50\u001b[0m \u001b[32m━━━━━━━━━━━━━━━━━━━━\u001b[0m\u001b[37m\u001b[0m \u001b[1m1s\u001b[0m 16ms/step - accuracy: 0.3913 - loss: 1.0777 - val_accuracy: 0.4123 - val_loss: 1.0764\n",
      "Epoch 6/100\n",
      "\u001b[1m50/50\u001b[0m \u001b[32m━━━━━━━━━━━━━━━━━━━━\u001b[0m\u001b[37m\u001b[0m \u001b[1m1s\u001b[0m 14ms/step - accuracy: 0.3450 - loss: 1.1209 - val_accuracy: 0.4085 - val_loss: 1.0750\n",
      "Epoch 7/100\n",
      "\u001b[1m50/50\u001b[0m \u001b[32m━━━━━━━━━━━━━━━━━━━━\u001b[0m\u001b[37m\u001b[0m \u001b[1m1s\u001b[0m 17ms/step - accuracy: 0.3989 - loss: 1.0873 - val_accuracy: 0.5050 - val_loss: 1.0241\n",
      "Epoch 8/100\n",
      "\u001b[1m50/50\u001b[0m \u001b[32m━━━━━━━━━━━━━━━━━━━━\u001b[0m\u001b[37m\u001b[0m \u001b[1m1s\u001b[0m 17ms/step - accuracy: 0.5026 - loss: 1.0458 - val_accuracy: 0.4987 - val_loss: 1.0245\n",
      "Epoch 9/100\n",
      "\u001b[1m50/50\u001b[0m \u001b[32m━━━━━━━━━━━━━━━━━━━━\u001b[0m\u001b[37m\u001b[0m \u001b[1m1s\u001b[0m 15ms/step - accuracy: 0.4273 - loss: 1.0585 - val_accuracy: 0.4724 - val_loss: 1.0356\n",
      "Epoch 10/100\n",
      "\u001b[1m50/50\u001b[0m \u001b[32m━━━━━━━━━━━━━━━━━━━━\u001b[0m\u001b[37m\u001b[0m \u001b[1m1s\u001b[0m 14ms/step - accuracy: 0.4532 - loss: 1.0595 - val_accuracy: 0.4937 - val_loss: 1.0184\n",
      "Epoch 11/100\n",
      "\u001b[1m50/50\u001b[0m \u001b[32m━━━━━━━━━━━━━━━━━━━━\u001b[0m\u001b[37m\u001b[0m \u001b[1m1s\u001b[0m 16ms/step - accuracy: 0.4709 - loss: 1.0439 - val_accuracy: 0.4662 - val_loss: 1.0283\n",
      "Epoch 12/100\n",
      "\u001b[1m50/50\u001b[0m \u001b[32m━━━━━━━━━━━━━━━━━━━━\u001b[0m\u001b[37m\u001b[0m \u001b[1m1s\u001b[0m 16ms/step - accuracy: 0.4443 - loss: 1.0630 - val_accuracy: 0.5000 - val_loss: 0.9948\n",
      "Epoch 13/100\n",
      "\u001b[1m50/50\u001b[0m \u001b[32m━━━━━━━━━━━━━━━━━━━━\u001b[0m\u001b[37m\u001b[0m \u001b[1m1s\u001b[0m 17ms/step - accuracy: 0.4659 - loss: 1.0553 - val_accuracy: 0.4962 - val_loss: 0.9992\n",
      "Epoch 14/100\n",
      "\u001b[1m50/50\u001b[0m \u001b[32m━━━━━━━━━━━━━━━━━━━━\u001b[0m\u001b[37m\u001b[0m \u001b[1m1s\u001b[0m 16ms/step - accuracy: 0.5011 - loss: 1.0281 - val_accuracy: 0.4925 - val_loss: 0.9994\n",
      "Epoch 15/100\n",
      "\u001b[1m50/50\u001b[0m \u001b[32m━━━━━━━━━━━━━━━━━━━━\u001b[0m\u001b[37m\u001b[0m \u001b[1m1s\u001b[0m 18ms/step - accuracy: 0.4955 - loss: 0.9953 - val_accuracy: 0.4962 - val_loss: 1.0017\n",
      "Epoch 16/100\n",
      "\u001b[1m50/50\u001b[0m \u001b[32m━━━━━━━━━━━━━━━━━━━━\u001b[0m\u001b[37m\u001b[0m \u001b[1m1s\u001b[0m 15ms/step - accuracy: 0.4894 - loss: 1.0272 - val_accuracy: 0.5000 - val_loss: 0.9933\n",
      "Epoch 17/100\n",
      "\u001b[1m50/50\u001b[0m \u001b[32m━━━━━━━━━━━━━━━━━━━━\u001b[0m\u001b[37m\u001b[0m \u001b[1m1s\u001b[0m 13ms/step - accuracy: 0.4866 - loss: 1.0127 - val_accuracy: 0.4900 - val_loss: 1.0064\n",
      "Epoch 18/100\n",
      "\u001b[1m50/50\u001b[0m \u001b[32m━━━━━━━━━━━━━━━━━━━━\u001b[0m\u001b[37m\u001b[0m \u001b[1m1s\u001b[0m 14ms/step - accuracy: 0.4766 - loss: 1.0135 - val_accuracy: 0.5013 - val_loss: 0.9893\n",
      "Epoch 19/100\n",
      "\u001b[1m50/50\u001b[0m \u001b[32m━━━━━━━━━━━━━━━━━━━━\u001b[0m\u001b[37m\u001b[0m \u001b[1m1s\u001b[0m 11ms/step - accuracy: 0.4722 - loss: 1.0251 - val_accuracy: 0.5050 - val_loss: 0.9857\n",
      "Epoch 20/100\n",
      "\u001b[1m50/50\u001b[0m \u001b[32m━━━━━━━━━━━━━━━━━━━━\u001b[0m\u001b[37m\u001b[0m \u001b[1m0s\u001b[0m 9ms/step - accuracy: 0.5233 - loss: 0.9774 - val_accuracy: 0.4975 - val_loss: 0.9944\n",
      "Epoch 21/100\n",
      "\u001b[1m50/50\u001b[0m \u001b[32m━━━━━━━━━━━━━━━━━━━━\u001b[0m\u001b[37m\u001b[0m \u001b[1m0s\u001b[0m 9ms/step - accuracy: 0.4801 - loss: 1.0205 - val_accuracy: 0.4825 - val_loss: 1.0066\n",
      "Epoch 22/100\n",
      "\u001b[1m50/50\u001b[0m \u001b[32m━━━━━━━━━━━━━━━━━━━━\u001b[0m\u001b[37m\u001b[0m \u001b[1m1s\u001b[0m 9ms/step - accuracy: 0.4793 - loss: 1.0144 - val_accuracy: 0.5000 - val_loss: 0.9968\n",
      "Epoch 23/100\n",
      "\u001b[1m50/50\u001b[0m \u001b[32m━━━━━━━━━━━━━━━━━━━━\u001b[0m\u001b[37m\u001b[0m \u001b[1m1s\u001b[0m 9ms/step - accuracy: 0.5532 - loss: 0.9601 - val_accuracy: 0.4774 - val_loss: 1.0089\n",
      "Epoch 24/100\n",
      "\u001b[1m50/50\u001b[0m \u001b[32m━━━━━━━━━━━━━━━━━━━━\u001b[0m\u001b[37m\u001b[0m \u001b[1m1s\u001b[0m 9ms/step - accuracy: 0.4966 - loss: 0.9895 - val_accuracy: 0.4950 - val_loss: 0.9948\n",
      "Epoch 25/100\n",
      "\u001b[1m50/50\u001b[0m \u001b[32m━━━━━━━━━━━━━━━━━━━━\u001b[0m\u001b[37m\u001b[0m \u001b[1m0s\u001b[0m 9ms/step - accuracy: 0.5184 - loss: 0.9954 - val_accuracy: 0.4900 - val_loss: 1.0019\n",
      "Epoch 26/100\n",
      "\u001b[1m50/50\u001b[0m \u001b[32m━━━━━━━━━━━━━━━━━━━━\u001b[0m\u001b[37m\u001b[0m \u001b[1m0s\u001b[0m 9ms/step - accuracy: 0.4997 - loss: 1.0175 - val_accuracy: 0.4724 - val_loss: 1.0103\n",
      "Epoch 27/100\n",
      "\u001b[1m50/50\u001b[0m \u001b[32m━━━━━━━━━━━━━━━━━━━━\u001b[0m\u001b[37m\u001b[0m \u001b[1m1s\u001b[0m 9ms/step - accuracy: 0.4958 - loss: 0.9967 - val_accuracy: 0.4749 - val_loss: 1.0120\n",
      "Epoch 28/100\n",
      "\u001b[1m50/50\u001b[0m \u001b[32m━━━━━━━━━━━━━━━━━━━━\u001b[0m\u001b[37m\u001b[0m \u001b[1m1s\u001b[0m 9ms/step - accuracy: 0.5208 - loss: 1.0003 - val_accuracy: 0.4937 - val_loss: 0.9885\n",
      "Epoch 29/100\n",
      "\u001b[1m50/50\u001b[0m \u001b[32m━━━━━━━━━━━━━━━━━━━━\u001b[0m\u001b[37m\u001b[0m \u001b[1m1s\u001b[0m 10ms/step - accuracy: 0.5130 - loss: 0.9857 - val_accuracy: 0.4799 - val_loss: 1.0106\n",
      "Epoch 30/100\n",
      "\u001b[1m50/50\u001b[0m \u001b[32m━━━━━━━━━━━━━━━━━━━━\u001b[0m\u001b[37m\u001b[0m \u001b[1m1s\u001b[0m 15ms/step - accuracy: 0.5052 - loss: 1.0432 - val_accuracy: 0.4825 - val_loss: 1.0053\n",
      "Epoch 31/100\n",
      "\u001b[1m50/50\u001b[0m \u001b[32m━━━━━━━━━━━━━━━━━━━━\u001b[0m\u001b[37m\u001b[0m \u001b[1m1s\u001b[0m 15ms/step - accuracy: 0.5598 - loss: 0.9351 - val_accuracy: 0.4737 - val_loss: 1.0109\n",
      "Epoch 32/100\n",
      "\u001b[1m50/50\u001b[0m \u001b[32m━━━━━━━━━━━━━━━━━━━━\u001b[0m\u001b[37m\u001b[0m \u001b[1m1s\u001b[0m 16ms/step - accuracy: 0.4850 - loss: 0.9695 - val_accuracy: 0.4511 - val_loss: 1.0257\n",
      "Epoch 33/100\n",
      "\u001b[1m50/50\u001b[0m \u001b[32m━━━━━━━━━━━━━━━━━━━━\u001b[0m\u001b[37m\u001b[0m \u001b[1m1s\u001b[0m 13ms/step - accuracy: 0.5204 - loss: 0.9884 - val_accuracy: 0.4900 - val_loss: 1.0047\n",
      "Epoch 34/100\n",
      "\u001b[1m50/50\u001b[0m \u001b[32m━━━━━━━━━━━━━━━━━━━━\u001b[0m\u001b[37m\u001b[0m \u001b[1m1s\u001b[0m 16ms/step - accuracy: 0.5305 - loss: 0.9656 - val_accuracy: 0.4637 - val_loss: 1.0215\n",
      "Epoch 35/100\n",
      "\u001b[1m50/50\u001b[0m \u001b[32m━━━━━━━━━━━━━━━━━━━━\u001b[0m\u001b[37m\u001b[0m \u001b[1m1s\u001b[0m 10ms/step - accuracy: 0.5020 - loss: 0.9664 - val_accuracy: 0.4724 - val_loss: 1.0123\n",
      "Epoch 36/100\n",
      "\u001b[1m50/50\u001b[0m \u001b[32m━━━━━━━━━━━━━━━━━━━━\u001b[0m\u001b[37m\u001b[0m \u001b[1m1s\u001b[0m 12ms/step - accuracy: 0.4998 - loss: 1.0005 - val_accuracy: 0.4624 - val_loss: 1.0230\n",
      "Epoch 37/100\n",
      "\u001b[1m50/50\u001b[0m \u001b[32m━━━━━━━━━━━━━━━━━━━━\u001b[0m\u001b[37m\u001b[0m \u001b[1m0s\u001b[0m 9ms/step - accuracy: 0.5270 - loss: 0.9578 - val_accuracy: 0.4687 - val_loss: 1.0127\n",
      "Epoch 38/100\n",
      "\u001b[1m50/50\u001b[0m \u001b[32m━━━━━━━━━━━━━━━━━━━━\u001b[0m\u001b[37m\u001b[0m \u001b[1m1s\u001b[0m 12ms/step - accuracy: 0.4911 - loss: 1.0004 - val_accuracy: 0.4862 - val_loss: 1.0026\n",
      "Epoch 39/100\n",
      "\u001b[1m50/50\u001b[0m \u001b[32m━━━━━━━━━━━━━━━━━━━━\u001b[0m\u001b[37m\u001b[0m \u001b[1m1s\u001b[0m 11ms/step - accuracy: 0.5552 - loss: 0.9339 - val_accuracy: 0.4612 - val_loss: 1.0172\n",
      "Epoch 40/100\n",
      "\u001b[1m50/50\u001b[0m \u001b[32m━━━━━━━━━━━━━━━━━━━━\u001b[0m\u001b[37m\u001b[0m \u001b[1m1s\u001b[0m 11ms/step - accuracy: 0.5341 - loss: 0.9431 - val_accuracy: 0.4637 - val_loss: 1.0130\n",
      "Epoch 41/100\n",
      "\u001b[1m50/50\u001b[0m \u001b[32m━━━━━━━━━━━━━━━━━━━━\u001b[0m\u001b[37m\u001b[0m \u001b[1m1s\u001b[0m 17ms/step - accuracy: 0.5451 - loss: 0.9610 - val_accuracy: 0.4825 - val_loss: 0.9989\n",
      "Epoch 42/100\n",
      "\u001b[1m50/50\u001b[0m \u001b[32m━━━━━━━━━━━━━━━━━━━━\u001b[0m\u001b[37m\u001b[0m \u001b[1m1s\u001b[0m 16ms/step - accuracy: 0.5304 - loss: 0.9710 - val_accuracy: 0.4712 - val_loss: 1.0116\n",
      "Epoch 43/100\n",
      "\u001b[1m50/50\u001b[0m \u001b[32m━━━━━━━━━━━━━━━━━━━━\u001b[0m\u001b[37m\u001b[0m \u001b[1m1s\u001b[0m 17ms/step - accuracy: 0.5615 - loss: 0.9456 - val_accuracy: 0.4574 - val_loss: 1.0154\n",
      "Epoch 44/100\n",
      "\u001b[1m50/50\u001b[0m \u001b[32m━━━━━━━━━━━━━━━━━━━━\u001b[0m\u001b[37m\u001b[0m \u001b[1m1s\u001b[0m 13ms/step - accuracy: 0.4971 - loss: 0.9920 - val_accuracy: 0.4737 - val_loss: 1.0079\n",
      "Epoch 45/100\n",
      "\u001b[1m50/50\u001b[0m \u001b[32m━━━━━━━━━━━━━━━━━━━━\u001b[0m\u001b[37m\u001b[0m \u001b[1m0s\u001b[0m 8ms/step - accuracy: 0.5265 - loss: 0.9843 - val_accuracy: 0.4637 - val_loss: 1.0150\n",
      "Epoch 46/100\n",
      "\u001b[1m50/50\u001b[0m \u001b[32m━━━━━━━━━━━━━━━━━━━━\u001b[0m\u001b[37m\u001b[0m \u001b[1m1s\u001b[0m 14ms/step - accuracy: 0.5132 - loss: 0.9715 - val_accuracy: 0.4762 - val_loss: 1.0029\n",
      "Epoch 47/100\n",
      "\u001b[1m50/50\u001b[0m \u001b[32m━━━━━━━━━━━━━━━━━━━━\u001b[0m\u001b[37m\u001b[0m \u001b[1m1s\u001b[0m 16ms/step - accuracy: 0.5441 - loss: 0.9385 - val_accuracy: 0.4612 - val_loss: 1.0233\n",
      "Epoch 48/100\n",
      "\u001b[1m50/50\u001b[0m \u001b[32m━━━━━━━━━━━━━━━━━━━━\u001b[0m\u001b[37m\u001b[0m \u001b[1m1s\u001b[0m 16ms/step - accuracy: 0.5641 - loss: 0.9251 - val_accuracy: 0.4549 - val_loss: 1.0184\n",
      "Epoch 49/100\n",
      "\u001b[1m50/50\u001b[0m \u001b[32m━━━━━━━━━━━━━━━━━━━━\u001b[0m\u001b[37m\u001b[0m \u001b[1m1s\u001b[0m 16ms/step - accuracy: 0.5289 - loss: 0.9670 - val_accuracy: 0.4574 - val_loss: 1.0043\n",
      "Epoch 50/100\n",
      "\u001b[1m50/50\u001b[0m \u001b[32m━━━━━━━━━━━━━━━━━━━━\u001b[0m\u001b[37m\u001b[0m \u001b[1m1s\u001b[0m 16ms/step - accuracy: 0.4871 - loss: 0.9936 - val_accuracy: 0.4624 - val_loss: 1.0249\n",
      "Epoch 51/100\n",
      "\u001b[1m50/50\u001b[0m \u001b[32m━━━━━━━━━━━━━━━━━━━━\u001b[0m\u001b[37m\u001b[0m \u001b[1m1s\u001b[0m 16ms/step - accuracy: 0.5524 - loss: 0.9539 - val_accuracy: 0.4612 - val_loss: 1.0164\n",
      "Epoch 52/100\n",
      "\u001b[1m50/50\u001b[0m \u001b[32m━━━━━━━━━━━━━━━━━━━━\u001b[0m\u001b[37m\u001b[0m \u001b[1m1s\u001b[0m 17ms/step - accuracy: 0.5215 - loss: 0.9359 - val_accuracy: 0.4474 - val_loss: 1.0241\n",
      "Epoch 53/100\n",
      "\u001b[1m50/50\u001b[0m \u001b[32m━━━━━━━━━━━━━━━━━━━━\u001b[0m\u001b[37m\u001b[0m \u001b[1m1s\u001b[0m 16ms/step - accuracy: 0.5308 - loss: 0.9486 - val_accuracy: 0.4624 - val_loss: 1.0146\n",
      "Epoch 54/100\n",
      "\u001b[1m50/50\u001b[0m \u001b[32m━━━━━━━━━━━━━━━━━━━━\u001b[0m\u001b[37m\u001b[0m \u001b[1m1s\u001b[0m 16ms/step - accuracy: 0.5339 - loss: 0.9496 - val_accuracy: 0.4737 - val_loss: 1.0122\n",
      "Epoch 55/100\n",
      "\u001b[1m50/50\u001b[0m \u001b[32m━━━━━━━━━━━━━━━━━━━━\u001b[0m\u001b[37m\u001b[0m \u001b[1m1s\u001b[0m 16ms/step - accuracy: 0.5317 - loss: 0.9494 - val_accuracy: 0.4599 - val_loss: 1.0171\n",
      "Epoch 56/100\n",
      "\u001b[1m50/50\u001b[0m \u001b[32m━━━━━━━━━━━━━━━━━━━━\u001b[0m\u001b[37m\u001b[0m \u001b[1m1s\u001b[0m 15ms/step - accuracy: 0.4977 - loss: 0.9645 - val_accuracy: 0.4612 - val_loss: 1.0224\n",
      "Epoch 57/100\n",
      "\u001b[1m50/50\u001b[0m \u001b[32m━━━━━━━━━━━━━━━━━━━━\u001b[0m\u001b[37m\u001b[0m \u001b[1m1s\u001b[0m 16ms/step - accuracy: 0.5317 - loss: 0.9430 - val_accuracy: 0.4612 - val_loss: 1.0182\n",
      "Epoch 58/100\n",
      "\u001b[1m50/50\u001b[0m \u001b[32m━━━━━━━━━━━━━━━━━━━━\u001b[0m\u001b[37m\u001b[0m \u001b[1m1s\u001b[0m 14ms/step - accuracy: 0.5199 - loss: 0.9477 - val_accuracy: 0.4474 - val_loss: 1.0291\n",
      "Epoch 59/100\n",
      "\u001b[1m50/50\u001b[0m \u001b[32m━━━━━━━━━━━━━━━━━━━━\u001b[0m\u001b[37m\u001b[0m \u001b[1m1s\u001b[0m 11ms/step - accuracy: 0.5398 - loss: 0.9292 - val_accuracy: 0.4586 - val_loss: 1.0219\n",
      "Epoch 60/100\n",
      "\u001b[1m50/50\u001b[0m \u001b[32m━━━━━━━━━━━━━━━━━━━━\u001b[0m\u001b[37m\u001b[0m \u001b[1m1s\u001b[0m 9ms/step - accuracy: 0.5485 - loss: 0.9189 - val_accuracy: 0.4386 - val_loss: 1.0189\n",
      "Epoch 61/100\n",
      "\u001b[1m50/50\u001b[0m \u001b[32m━━━━━━━━━━━━━━━━━━━━\u001b[0m\u001b[37m\u001b[0m \u001b[1m1s\u001b[0m 9ms/step - accuracy: 0.5308 - loss: 0.9468 - val_accuracy: 0.4624 - val_loss: 1.0085\n",
      "Epoch 62/100\n",
      "\u001b[1m50/50\u001b[0m \u001b[32m━━━━━━━━━━━━━━━━━━━━\u001b[0m\u001b[37m\u001b[0m \u001b[1m1s\u001b[0m 9ms/step - accuracy: 0.5289 - loss: 0.9676 - val_accuracy: 0.4561 - val_loss: 1.0264\n",
      "Epoch 63/100\n",
      "\u001b[1m50/50\u001b[0m \u001b[32m━━━━━━━━━━━━━━━━━━━━\u001b[0m\u001b[37m\u001b[0m \u001b[1m1s\u001b[0m 11ms/step - accuracy: 0.5228 - loss: 0.9514 - val_accuracy: 0.4624 - val_loss: 1.0220\n",
      "Epoch 64/100\n",
      "\u001b[1m50/50\u001b[0m \u001b[32m━━━━━━━━━━━━━━━━━━━━\u001b[0m\u001b[37m\u001b[0m \u001b[1m0s\u001b[0m 9ms/step - accuracy: 0.5020 - loss: 0.9697 - val_accuracy: 0.4637 - val_loss: 1.0127\n",
      "Epoch 65/100\n",
      "\u001b[1m50/50\u001b[0m \u001b[32m━━━━━━━━━━━━━━━━━━━━\u001b[0m\u001b[37m\u001b[0m \u001b[1m0s\u001b[0m 9ms/step - accuracy: 0.5214 - loss: 0.9527 - val_accuracy: 0.4624 - val_loss: 1.0252\n",
      "Epoch 66/100\n",
      "\u001b[1m50/50\u001b[0m \u001b[32m━━━━━━━━━━━━━━━━━━━━\u001b[0m\u001b[37m\u001b[0m \u001b[1m0s\u001b[0m 8ms/step - accuracy: 0.5667 - loss: 0.9323 - val_accuracy: 0.4436 - val_loss: 1.0356\n",
      "Epoch 67/100\n",
      "\u001b[1m50/50\u001b[0m \u001b[32m━━━━━━━━━━━━━━━━━━━━\u001b[0m\u001b[37m\u001b[0m \u001b[1m0s\u001b[0m 9ms/step - accuracy: 0.5304 - loss: 0.9438 - val_accuracy: 0.4536 - val_loss: 1.0242\n",
      "Epoch 68/100\n",
      "\u001b[1m50/50\u001b[0m \u001b[32m━━━━━━━━━━━━━━━━━━━━\u001b[0m\u001b[37m\u001b[0m \u001b[1m0s\u001b[0m 9ms/step - accuracy: 0.5104 - loss: 0.9631 - val_accuracy: 0.4511 - val_loss: 1.0330\n",
      "Epoch 69/100\n",
      "\u001b[1m50/50\u001b[0m \u001b[32m━━━━━━━━━━━━━━━━━━━━\u001b[0m\u001b[37m\u001b[0m \u001b[1m0s\u001b[0m 9ms/step - accuracy: 0.5463 - loss: 0.9184 - val_accuracy: 0.4461 - val_loss: 1.0481\n",
      "Epoch 70/100\n",
      "\u001b[1m50/50\u001b[0m \u001b[32m━━━━━━━━━━━━━━━━━━━━\u001b[0m\u001b[37m\u001b[0m \u001b[1m0s\u001b[0m 9ms/step - accuracy: 0.5450 - loss: 0.9167 - val_accuracy: 0.4511 - val_loss: 1.0266\n",
      "Epoch 71/100\n",
      "\u001b[1m50/50\u001b[0m \u001b[32m━━━━━━━━━━━━━━━━━━━━\u001b[0m\u001b[37m\u001b[0m \u001b[1m1s\u001b[0m 13ms/step - accuracy: 0.5522 - loss: 0.9405 - val_accuracy: 0.4461 - val_loss: 1.0405\n",
      "Epoch 72/100\n",
      "\u001b[1m50/50\u001b[0m \u001b[32m━━━━━━━━━━━━━━━━━━━━\u001b[0m\u001b[37m\u001b[0m \u001b[1m1s\u001b[0m 13ms/step - accuracy: 0.5384 - loss: 0.9421 - val_accuracy: 0.4511 - val_loss: 1.0335\n",
      "Epoch 73/100\n",
      "\u001b[1m50/50\u001b[0m \u001b[32m━━━━━━━━━━━━━━━━━━━━\u001b[0m\u001b[37m\u001b[0m \u001b[1m1s\u001b[0m 15ms/step - accuracy: 0.5296 - loss: 0.9476 - val_accuracy: 0.4511 - val_loss: 1.0408\n",
      "Epoch 74/100\n",
      "\u001b[1m50/50\u001b[0m \u001b[32m━━━━━━━━━━━━━━━━━━━━\u001b[0m\u001b[37m\u001b[0m \u001b[1m1s\u001b[0m 15ms/step - accuracy: 0.5320 - loss: 0.9201 - val_accuracy: 0.4336 - val_loss: 1.0379\n",
      "Epoch 75/100\n",
      "\u001b[1m50/50\u001b[0m \u001b[32m━━━━━━━━━━━━━━━━━━━━\u001b[0m\u001b[37m\u001b[0m \u001b[1m1s\u001b[0m 13ms/step - accuracy: 0.5111 - loss: 0.9717 - val_accuracy: 0.4511 - val_loss: 1.0482\n",
      "Epoch 76/100\n",
      "\u001b[1m50/50\u001b[0m \u001b[32m━━━━━━━━━━━━━━━━━━━━\u001b[0m\u001b[37m\u001b[0m \u001b[1m1s\u001b[0m 16ms/step - accuracy: 0.5106 - loss: 0.9378 - val_accuracy: 0.4436 - val_loss: 1.0356\n",
      "Epoch 77/100\n",
      "\u001b[1m50/50\u001b[0m \u001b[32m━━━━━━━━━━━━━━━━━━━━\u001b[0m\u001b[37m\u001b[0m \u001b[1m1s\u001b[0m 15ms/step - accuracy: 0.5268 - loss: 0.9549 - val_accuracy: 0.4461 - val_loss: 1.0364\n",
      "Epoch 78/100\n",
      "\u001b[1m50/50\u001b[0m \u001b[32m━━━━━━━━━━━━━━━━━━━━\u001b[0m\u001b[37m\u001b[0m \u001b[1m1s\u001b[0m 10ms/step - accuracy: 0.5386 - loss: 0.9177 - val_accuracy: 0.4486 - val_loss: 1.0366\n",
      "Epoch 79/100\n",
      "\u001b[1m50/50\u001b[0m \u001b[32m━━━━━━━━━━━━━━━━━━━━\u001b[0m\u001b[37m\u001b[0m \u001b[1m1s\u001b[0m 10ms/step - accuracy: 0.5119 - loss: 0.9338 - val_accuracy: 0.4499 - val_loss: 1.0483\n",
      "Epoch 80/100\n",
      "\u001b[1m50/50\u001b[0m \u001b[32m━━━━━━━━━━━━━━━━━━━━\u001b[0m\u001b[37m\u001b[0m \u001b[1m1s\u001b[0m 13ms/step - accuracy: 0.5684 - loss: 0.9204 - val_accuracy: 0.4373 - val_loss: 1.0635\n",
      "Epoch 81/100\n",
      "\u001b[1m50/50\u001b[0m \u001b[32m━━━━━━━━━━━━━━━━━━━━\u001b[0m\u001b[37m\u001b[0m \u001b[1m1s\u001b[0m 15ms/step - accuracy: 0.5131 - loss: 0.9518 - val_accuracy: 0.4737 - val_loss: 1.0326\n",
      "Epoch 82/100\n",
      "\u001b[1m50/50\u001b[0m \u001b[32m━━━━━━━━━━━━━━━━━━━━\u001b[0m\u001b[37m\u001b[0m \u001b[1m1s\u001b[0m 16ms/step - accuracy: 0.5364 - loss: 0.9431 - val_accuracy: 0.4612 - val_loss: 1.0399\n",
      "Epoch 83/100\n",
      "\u001b[1m50/50\u001b[0m \u001b[32m━━━━━━━━━━━━━━━━━━━━\u001b[0m\u001b[37m\u001b[0m \u001b[1m1s\u001b[0m 11ms/step - accuracy: 0.5480 - loss: 0.9301 - val_accuracy: 0.4536 - val_loss: 1.0399\n",
      "Epoch 84/100\n",
      "\u001b[1m50/50\u001b[0m \u001b[32m━━━━━━━━━━━━━━━━━━━━\u001b[0m\u001b[37m\u001b[0m \u001b[1m0s\u001b[0m 7ms/step - accuracy: 0.5745 - loss: 0.9053 - val_accuracy: 0.4511 - val_loss: 1.0550\n",
      "Epoch 85/100\n",
      "\u001b[1m50/50\u001b[0m \u001b[32m━━━━━━━━━━━━━━━━━━━━\u001b[0m\u001b[37m\u001b[0m \u001b[1m1s\u001b[0m 9ms/step - accuracy: 0.5851 - loss: 0.8865 - val_accuracy: 0.4449 - val_loss: 1.0521\n",
      "Epoch 86/100\n",
      "\u001b[1m50/50\u001b[0m \u001b[32m━━━━━━━━━━━━━━━━━━━━\u001b[0m\u001b[37m\u001b[0m \u001b[1m1s\u001b[0m 16ms/step - accuracy: 0.5504 - loss: 0.9326 - val_accuracy: 0.4474 - val_loss: 1.0489\n",
      "Epoch 87/100\n",
      "\u001b[1m50/50\u001b[0m \u001b[32m━━━━━━━━━━━━━━━━━━━━\u001b[0m\u001b[37m\u001b[0m \u001b[1m1s\u001b[0m 10ms/step - accuracy: 0.5421 - loss: 0.9212 - val_accuracy: 0.4511 - val_loss: 1.0509\n",
      "Epoch 88/100\n",
      "\u001b[1m50/50\u001b[0m \u001b[32m━━━━━━━━━━━━━━━━━━━━\u001b[0m\u001b[37m\u001b[0m \u001b[1m0s\u001b[0m 8ms/step - accuracy: 0.5180 - loss: 0.9808 - val_accuracy: 0.4311 - val_loss: 1.0549\n",
      "Epoch 89/100\n",
      "\u001b[1m50/50\u001b[0m \u001b[32m━━━━━━━━━━━━━━━━━━━━\u001b[0m\u001b[37m\u001b[0m \u001b[1m0s\u001b[0m 8ms/step - accuracy: 0.5511 - loss: 0.9004 - val_accuracy: 0.4511 - val_loss: 1.0514\n",
      "Epoch 90/100\n",
      "\u001b[1m50/50\u001b[0m \u001b[32m━━━━━━━━━━━━━━━━━━━━\u001b[0m\u001b[37m\u001b[0m \u001b[1m0s\u001b[0m 7ms/step - accuracy: 0.5750 - loss: 0.8919 - val_accuracy: 0.4361 - val_loss: 1.0655\n",
      "Epoch 91/100\n",
      "\u001b[1m50/50\u001b[0m \u001b[32m━━━━━━━━━━━━━━━━━━━━\u001b[0m\u001b[37m\u001b[0m \u001b[1m0s\u001b[0m 7ms/step - accuracy: 0.5699 - loss: 0.9084 - val_accuracy: 0.4637 - val_loss: 1.0448\n",
      "Epoch 92/100\n",
      "\u001b[1m50/50\u001b[0m \u001b[32m━━━━━━━━━━━━━━━━━━━━\u001b[0m\u001b[37m\u001b[0m \u001b[1m0s\u001b[0m 9ms/step - accuracy: 0.5540 - loss: 0.9164 - val_accuracy: 0.4323 - val_loss: 1.0545\n",
      "Epoch 93/100\n",
      "\u001b[1m50/50\u001b[0m \u001b[32m━━━━━━━━━━━━━━━━━━━━\u001b[0m\u001b[37m\u001b[0m \u001b[1m1s\u001b[0m 11ms/step - accuracy: 0.5346 - loss: 0.9020 - val_accuracy: 0.4361 - val_loss: 1.0668\n",
      "Epoch 94/100\n",
      "\u001b[1m50/50\u001b[0m \u001b[32m━━━━━━━━━━━━━━━━━━━━\u001b[0m\u001b[37m\u001b[0m \u001b[1m1s\u001b[0m 15ms/step - accuracy: 0.5329 - loss: 0.9320 - val_accuracy: 0.4386 - val_loss: 1.0548\n",
      "Epoch 95/100\n",
      "\u001b[1m50/50\u001b[0m \u001b[32m━━━━━━━━━━━━━━━━━━━━\u001b[0m\u001b[37m\u001b[0m \u001b[1m1s\u001b[0m 16ms/step - accuracy: 0.5198 - loss: 0.9294 - val_accuracy: 0.4674 - val_loss: 1.0381\n",
      "Epoch 96/100\n",
      "\u001b[1m50/50\u001b[0m \u001b[32m━━━━━━━━━━━━━━━━━━━━\u001b[0m\u001b[37m\u001b[0m \u001b[1m1s\u001b[0m 15ms/step - accuracy: 0.5613 - loss: 0.8953 - val_accuracy: 0.4273 - val_loss: 1.0698\n",
      "Epoch 97/100\n",
      "\u001b[1m50/50\u001b[0m \u001b[32m━━━━━━━━━━━━━━━━━━━━\u001b[0m\u001b[37m\u001b[0m \u001b[1m1s\u001b[0m 16ms/step - accuracy: 0.5237 - loss: 0.8964 - val_accuracy: 0.4474 - val_loss: 1.0427\n",
      "Epoch 98/100\n",
      "\u001b[1m50/50\u001b[0m \u001b[32m━━━━━━━━━━━━━━━━━━━━\u001b[0m\u001b[37m\u001b[0m \u001b[1m0s\u001b[0m 7ms/step - accuracy: 0.5453 - loss: 0.9315 - val_accuracy: 0.4586 - val_loss: 1.0507\n",
      "Epoch 99/100\n",
      "\u001b[1m50/50\u001b[0m \u001b[32m━━━━━━━━━━━━━━━━━━━━\u001b[0m\u001b[37m\u001b[0m \u001b[1m0s\u001b[0m 9ms/step - accuracy: 0.5781 - loss: 0.8987 - val_accuracy: 0.4398 - val_loss: 1.0579\n",
      "Epoch 100/100\n",
      "\u001b[1m50/50\u001b[0m \u001b[32m━━━━━━━━━━━━━━━━━━━━\u001b[0m\u001b[37m\u001b[0m \u001b[1m1s\u001b[0m 13ms/step - accuracy: 0.5680 - loss: 0.9027 - val_accuracy: 0.4524 - val_loss: 1.0531\n"
     ]
    },
    {
     "data": {
      "text/plain": [
       "<keras.src.callbacks.history.History at 0x238f5bcadb0>"
      ]
     },
     "execution_count": 9,
     "metadata": {},
     "output_type": "execute_result"
    }
   ],
   "source": [
    "# es_callback = EarlyStopping(monitor='val_loss', patience=10, restore_best_weights=True)\n",
    "\n",
    "class_weights = class_weight.compute_class_weight(\n",
    "    class_weight='balanced',\n",
    "    classes=le_target.classes_,\n",
    "    y=df['result']\n",
    ")\n",
    "\n",
    "class_weight_dict = dict(zip(le_target.transform(le_target.classes_), class_weights))\n",
    "\n",
    "model.compile(optimizer='adam', \n",
    "              loss='sparse_categorical_crossentropy', \n",
    "              metrics=['accuracy'])\n",
    "\n",
    "model.fit(X_train, Y_train, epochs = 100, \n",
    "          batch_size = 16, validation_split=0.5,\n",
    "          class_weight=class_weight_dict\n",
    "          )"
   ]
  },
  {
   "cell_type": "markdown",
   "id": "b9707711",
   "metadata": {},
   "source": [
    "#### Prediction"
   ]
  },
  {
   "cell_type": "code",
   "execution_count": 15,
   "id": "070488f4",
   "metadata": {},
   "outputs": [
    {
     "name": "stdout",
     "output_type": "stream",
     "text": [
      "\u001b[1m1/1\u001b[0m \u001b[32m━━━━━━━━━━━━━━━━━━━━\u001b[0m\u001b[37m\u001b[0m \u001b[1m0s\u001b[0m 60ms/step"
     ]
    },
    {
     "name": "stderr",
     "output_type": "stream",
     "text": [
      "c:\\Politechnika\\Podstawy_sieci_neuronowych\\soccer_pred\\.venv\\Lib\\site-packages\\sklearn\\utils\\validation.py:2739: UserWarning: X does not have valid feature names, but OneHotEncoder was fitted with feature names\n",
      "  warnings.warn(\n",
      "c:\\Politechnika\\Podstawy_sieci_neuronowych\\soccer_pred\\.venv\\Lib\\site-packages\\sklearn\\utils\\validation.py:2739: UserWarning: X does not have valid feature names, but OneHotEncoder was fitted with feature names\n",
      "  warnings.warn(\n"
     ]
    },
    {
     "name": "stdout",
     "output_type": "stream",
     "text": [
      "\u001b[1m1/1\u001b[0m \u001b[32m━━━━━━━━━━━━━━━━━━━━\u001b[0m\u001b[37m\u001b[0m \u001b[1m0s\u001b[0m 138ms/step\n",
      "\n",
      "BARCELONA vs REAL MADRID\n",
      "Home win: 79.60%\n",
      "Draw:     12.07%\n",
      "Away win: 8.33%\n",
      "\u001b[1m1/1\u001b[0m \u001b[32m━━━━━━━━━━━━━━━━━━━━\u001b[0m\u001b[37m\u001b[0m \u001b[1m0s\u001b[0m 92ms/step\n"
     ]
    },
    {
     "name": "stderr",
     "output_type": "stream",
     "text": [
      "c:\\Politechnika\\Podstawy_sieci_neuronowych\\soccer_pred\\.venv\\Lib\\site-packages\\sklearn\\utils\\validation.py:2739: UserWarning: X does not have valid feature names, but OneHotEncoder was fitted with feature names\n",
      "  warnings.warn(\n",
      "c:\\Politechnika\\Podstawy_sieci_neuronowych\\soccer_pred\\.venv\\Lib\\site-packages\\sklearn\\utils\\validation.py:2739: UserWarning: X does not have valid feature names, but OneHotEncoder was fitted with feature names\n",
      "  warnings.warn(\n"
     ]
    },
    {
     "name": "stdout",
     "output_type": "stream",
     "text": [
      "\n",
      "REAL MADRID vs BARCELONA\n",
      "Home win: 47.06%\n",
      "Draw:     18.40%\n",
      "Away win: 34.54%\n"
     ]
    }
   ],
   "source": [
    "predictMatch(\"BARCELONA\", \"REAL MADRID\")\n",
    "predictMatch(\"REAL MADRID\", \"BARCELONA\")"
   ]
  },
  {
   "cell_type": "markdown",
   "id": "bf9b37bb",
   "metadata": {},
   "source": [
    "#### Tests & Data validation"
   ]
  },
  {
   "cell_type": "code",
   "execution_count": 16,
   "id": "63767980",
   "metadata": {},
   "outputs": [
    {
     "data": {
      "text/plain": [
       "result\n",
       "H    0.456391\n",
       "A    0.287218\n",
       "D    0.256391\n",
       "Name: proportion, dtype: float64"
      ]
     },
     "execution_count": 16,
     "metadata": {},
     "output_type": "execute_result"
    }
   ],
   "source": [
    "df['result'].value_counts(normalize=True)"
   ]
  }
 ],
 "metadata": {
  "kernelspec": {
   "display_name": ".venv",
   "language": "python",
   "name": "python3"
  },
  "language_info": {
   "codemirror_mode": {
    "name": "ipython",
    "version": 3
   },
   "file_extension": ".py",
   "mimetype": "text/x-python",
   "name": "python",
   "nbconvert_exporter": "python",
   "pygments_lexer": "ipython3",
   "version": "3.12.0"
  }
 },
 "nbformat": 4,
 "nbformat_minor": 5
}
